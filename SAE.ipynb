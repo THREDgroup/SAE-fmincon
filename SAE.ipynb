{
 "cells": [
  {
   "cell_type": "code",
   "execution_count": 1,
   "id": "through-toddler",
   "metadata": {},
   "outputs": [],
   "source": [
    "# import libraries\n",
    "import pandas as pd\n",
    "import numpy as np\n",
    "import random\n",
    "import matplotlib.pyplot as plt"
   ]
  },
  {
   "cell_type": "code",
   "execution_count": 2,
   "id": "harmful-vampire",
   "metadata": {},
   "outputs": [],
   "source": [
    "# parameter databases\n",
    "params=pd.read_excel(\"C:\\\\Users\\\\Akash\\\\Desktop\\\\SAE\\\\params.xlsx\", engine='openpyxl')\n",
    "materials=pd.read_csv(\"C:\\\\Users\\\\Akash\\\\Desktop\\\\SAE\\\\materials.csv\")\n",
    "tires=pd.read_csv(\"C:\\\\Users\\\\Akash\\\\Desktop\\\\SAE\\\\tires.csv\")\n",
    "motors=pd.read_csv(\"C:\\\\Users\\\\Akash\\\\Desktop\\\\SAE\\\\motors.csv\")\n",
    "brakes=pd.read_csv(\"C:\\\\Users\\\\Akash\\\\Desktop\\\\SAE\\\\brakes.csv\")\n",
    "suspension=pd.read_csv(\"C:\\\\Users\\\\Akash\\\\Desktop\\\\SAE\\\\suspension.csv\")"
   ]
  },
  {
   "cell_type": "code",
   "execution_count": 4,
   "id": "greatest-apache",
   "metadata": {},
   "outputs": [],
   "source": [
    "# constants\n",
    "v_car = 26.8 # m/s\n",
    "w_e = 3600*2*np.pi/60 # radians/sec\n",
    "rho_air = 1.225 # kg/m3\n",
    "r_track = 9 # m\n",
    "P_brk = 10**7 # Pascals\n",
    "C_dc = 0.04 # drag coefficient of cabin\n",
    "gravity = 9.81 # m/s^2\n",
    "y_suspension = 0.05 # m\n",
    "dydt_suspension = 0.025 # m/s\n",
    "# weights for composing objective from subobjectives\n",
    "weightsNull = np.ones(11) / 11\n",
    "weights1 = np.array([14,1,20,30,10,1,1,10,10,2,1])/100\n",
    "weights2 = np.array([25,1,15,20,15,1,1,15,5,1,1])/100\n",
    "weights3 = np.array([14,1,20,15,25,1,1,10,10,2,1])/100"
   ]
  },
  {
   "cell_type": "code",
   "execution_count": 21,
   "id": "described-italic",
   "metadata": {},
   "outputs": [],
   "source": [
    "class car:\n",
    "    def __init__(self): # initialize a random car\n",
    "        # continuous parameters with fixed bounds\n",
    "        for i in range(19):\n",
    "            setattr(self, params.at[i, 'variable'], random.uniform(params.at[i, 'min'], params.at[i, 'max']))\n",
    "        \n",
    "        # mateials\n",
    "        for i in range(5):\n",
    "            setattr(self, params.at[19+i, 'variable'], materials.at[random.randint(0,12),'q'])       \n",
    "        setattr(self, 'Eia', self.qia*1000000)  \n",
    "        \n",
    "        # rear tires\n",
    "        temp = random.randint(0,6)\n",
    "        setattr(self, params.at[25, 'variable'], tires.at[temp,'radius'])\n",
    "        setattr(self, params.at[26, 'variable'], tires.at[temp,'mass'])\n",
    "        # fron tires\n",
    "        temp = random.randint(0,6)\n",
    "        setattr(self, params.at[27, 'variable'], tires.at[temp,'radius'])\n",
    "        setattr(self, params.at[28, 'variable'], tires.at[temp,'mass'])\n",
    "        \n",
    "        # engine\n",
    "        temp = random.randint(0,20)\n",
    "        setattr(self, params.at[29, 'variable'], motors.at[temp,'Power'])\n",
    "        setattr(self, params.at[30, 'variable'], motors.at[temp,'Length'])\n",
    "        setattr(self, params.at[31, 'variable'], motors.at[temp,'Height'])\n",
    "        setattr(self, params.at[32, 'variable'], motors.at[temp,'Torque'])\n",
    "        setattr(self, params.at[33, 'variable'], motors.at[temp,'Mass'])\n",
    "        \n",
    "        # brakes\n",
    "        temp = random.randint(0,33)\n",
    "        setattr(self, params.at[34, 'variable'], brakes.at[temp,'rbrk'])\n",
    "        setattr(self, params.at[35, 'variable'], brakes.at[temp,'qbrk'])\n",
    "        setattr(self, params.at[36, 'variable'], brakes.at[temp,'lbrk'])\n",
    "        setattr(self, params.at[37, 'variable'], brakes.at[temp,'hbrk'])\n",
    "        setattr(self, params.at[38, 'variable'], brakes.at[temp,'wbrk'])\n",
    "        setattr(self, params.at[39, 'variable'], brakes.at[temp,'tbrk'])\n",
    "        \n",
    "        # suspension\n",
    "        temp = random.randint(0,4)\n",
    "        setattr(self, params.at[40, 'variable'], suspension.at[temp,'krsp'])\n",
    "        setattr(self, params.at[41, 'variable'], suspension.at[temp,'crsp'])\n",
    "        setattr(self, params.at[42, 'variable'], suspension.at[temp,'mrsp'])\n",
    "        setattr(self, params.at[43, 'variable'], suspension.at[temp,'kfsp'])\n",
    "        setattr(self, params.at[44, 'variable'], suspension.at[temp,'cfsp'])\n",
    "        setattr(self, params.at[45, 'variable'], suspension.at[temp,'mfsp'])\n",
    "        \n",
    "        # continuous parameters with variable bounds\n",
    "        setattr(self, 'wrw', random.uniform(0.3, r_track - 2 * self.rrt))\n",
    "        setattr(self, 'yrw', random.uniform(.5 + self.hrw / 2, 1.2 - self.hrw / 2))\n",
    "        setattr(self, 'yfw', random.uniform(0.03 + self.hfw / 2, .25 - self.hfw/2))\n",
    "        setattr(self, 'ysw', random.uniform(0.03 + self.hsw/2, .250 - self.hsw/2))\n",
    "        setattr(self, 'ye', random.uniform(0.03 + self.he / 2, .5 - self.he / 2))\n",
    "        setattr(self, 'yc', random.uniform(0.03 + self.hc / 2, 1.200 - self.hc / 2))\n",
    "        setattr(self, 'lia', random.uniform(0.2, .7  - self.lfw))\n",
    "        setattr(self, 'yia', random.uniform(0.03 + self.hia / 2, 1.200 - self.hia / 2))\n",
    "        setattr(self, 'yrsp', random.uniform(self.rrt, self.rrt * 2))\n",
    "        setattr(self, 'yfsp', random.uniform(self.rft, self.rft * 2))\n",
    "    \n",
    "    # mass of subsystems\n",
    "    def mrw(self):\n",
    "        return self.lrw * self.wrw *self.hrw * self.qrw\n",
    "    def mfw(self):\n",
    "        return self.lfw * self.wfw *self.hfw * self.qfw\n",
    "    def msw(self):\n",
    "        return self.lsw * self.wsw *self.hsw * self.qsw\n",
    "    def mia(self):\n",
    "        return self.lia * self.wia *self.hia * self.qia\n",
    "    def mc(self):\n",
    "        return 2*(self.hc*self.lc*self.tc + self.hc*self.wc*self.tc + self.lc*self.hc*self.tc)*self.qc\n",
    "    def mbrk(self):\n",
    "        return self.lbrk * self.wbrk * self.hbrk * self.qbrk\n",
    "    \n",
    "    # objective 1 - mass (minimize)\n",
    "    def mass(self):\n",
    "        mass = self.mrw() + self.mfw() + 2 * self.msw() + 2*self.mrt + 2*self.mft + self.me + self.mc() + self.mia() + 4*self.mbrk() + 2*self.mrsp + 2*self.mfsp\n",
    "        return mass\n",
    "    \n",
    "    # objective 2 - centre of gravity height (minimize)\n",
    "    def cGy(self):\n",
    "        t1 = (self.mrw()*self.yrw + self.mfw()*self.yfw+ self.me*self.ye + self.mc()*self.yc + self.mia()*self.yia) / self.mass()\n",
    "        t2 = 2*(self.msw()*self.ysw + self.mrt*self.rrt + self.mft*self.rft + self.mbrk()*self.rft + self.mrsp*self.yrsp + self.mfsp*self.yfsp) / self.mass()\n",
    "        return t1 + t2\n",
    "    \n",
    "    # aspect ratio of wing\n",
    "    def AR(self,w,alpha,l):\n",
    "        return w* np.cos(alpha) / l\n",
    "\n",
    "    # lift co-effecient\n",
    "    def C_lift(self,AR,alpha):\n",
    "        return 2*np.pi* (AR / (AR + 2)) * alpha\n",
    "    \n",
    "    # drag co-efficient\n",
    "    def C_drag(self,C_lift, AR):\n",
    "        return C_lift**2 / (np.pi * AR)\n",
    "    \n",
    "    # wing downforce\n",
    "    def F_down_wing(self,w,h,l,alpha,rho_air,v_car):\n",
    "        wingAR = self.AR(w,alpha,l)\n",
    "        C_l = self.C_lift(wingAR, alpha)\n",
    "        return 0.5 * alpha * h * w * rho_air * (v_car**2) * C_l\n",
    "    \n",
    "    # wing drag\n",
    "    def F_drag_wing(self,w,h,l,alpha,rho_air,v_car):\n",
    "        wingAR = self.AR(w,alpha,l)\n",
    "        C_l = self.C_lift(wingAR, alpha)\n",
    "        C_d = self.C_drag(C_l,wingAR)\n",
    "        return self.F_drag(w,h,rho_air,v_car,C_d)\n",
    "    \n",
    "    # drag\n",
    "    def F_drag(self,w,h,rho_air,v_car,C_d):\n",
    "        return 0.5*w*h*rho_air*v_car**2*C_d\n",
    "\n",
    "    # objective 3 - total drag (minimize)\n",
    "    def F_drag_total(self):\n",
    "        cabinDrag = self.F_drag(self.wc,self.hc,rho_air,v_car,C_dc)\n",
    "        rearWingDrag = self.F_drag_wing(self.wrw,self.hrw,self.lrw,self.arw,rho_air,v_car)\n",
    "        frontWingDrag = self.F_drag_wing(self.wfw,self.hfw,self.lfw,self.afw,rho_air,v_car)\n",
    "        sideWingDrag = self.F_drag_wing(self.wsw,self.hsw,self.lsw,self.asw,rho_air,v_car)\n",
    "        return rearWingDrag + frontWingDrag + 2* sideWingDrag + cabinDrag\n",
    "    \n",
    "    # objective 4 - total downforce (maximize)\n",
    "    def F_down_total(self):\n",
    "        downForceRearWing = self.F_down_wing(self.wrw,self.hrw,self.lrw,self.arw,rho_air,v_car)\n",
    "        downForceFrontWing = self.F_down_wing(self.wfw,self.hfw,self.lfw,self.afw,rho_air,v_car)\n",
    "        downForceSideWing = self.F_down_wing(self.wsw,self.hsw,self.lsw,self.asw,rho_air,v_car)\n",
    "        return downForceRearWing + downForceFrontWing + 2*downForceSideWing\n",
    "    \n",
    "    # rolling resistance co-efficient\n",
    "    def rollingResistance(self,tirePressure,v_car):\n",
    "        C = .005 + 1/tirePressure * (.01 + .0095 * ((v_car*3.6/100)**2))\n",
    "        return C * self.mass() * gravity\n",
    "    \n",
    "    # objective 5 - acceleration (maximize)\n",
    "    def acceleration(self):\n",
    "        mTotal = self.mass()\n",
    "        tirePressure = self.Prt\n",
    "        total_resistance = self.F_drag_total() + self.rollingResistance(tirePressure,v_car)\n",
    "\n",
    "        w_wheels = v_car / self.rrt\n",
    "        efficiency = total_resistance * v_car / self.Phi_e\n",
    "        torque = self.T_e\n",
    "    \n",
    "        F_wheels = torque * efficiency * w_e /(self.rrt * w_wheels)\n",
    "\n",
    "        return (F_wheels - total_resistance) / mTotal\n",
    "    \n",
    "    # objective 6 - crash force (minimize)\n",
    "    def crashForce(self):\n",
    "        return np.sqrt(self.mass() * v_car**2 * self.wia * self.hia * self.Eia / (2*self.lia))\n",
    "    \n",
    "    # objective 7 - impact attenuator volume (minimize)\n",
    "    def iaVolume(self):\n",
    "        return self.lia*self.wia*self.hia\n",
    "    \n",
    "    def suspensionForce(self,k,c):\n",
    "        return k*y_suspension + c*dydt_suspension\n",
    "\n",
    "    # objective 8 - corner velocity in skid pad (maximize)\n",
    "    def cornerVelocity(self):\n",
    "        F_fsp = self.suspensionForce(self.kfsp,self.cfsp)\n",
    "        F_rsp = self.suspensionForce(self.krsp,self.crsp)\n",
    "        downforce = self.F_down_total()\n",
    "        mTotal = self.mass()\n",
    "\n",
    "        C = self.rollingResistance(self.Prt,v_car)\n",
    "        forces = downforce+mTotal*gravity-2*F_fsp-2*F_rsp\n",
    "        if forces < 0:\n",
    "            return 0\n",
    "        return np.sqrt(forces * C * r_track / mTotal)\n",
    "    \n",
    "    # objective 9 - (minimize)\n",
    "    def breakingDistance(self):\n",
    "        mTotal = self.mass()\n",
    "        C = self.rollingResistance(self.Prt,v_car)\n",
    "\n",
    "        A_brk = self.hbrk * self.wbrk\n",
    "        c_brk = .37\n",
    "        Tbrk = 2 * c_brk * P_brk * A_brk * self.rbrk\n",
    "\n",
    "        # y forces:\n",
    "        F_fsp = self.suspensionForce(self.kfsp,self.cfsp)\n",
    "        F_rsp = self.suspensionForce(self.krsp,self.crsp)\n",
    "        Fy = mTotal*gravity + self.F_down_total() - 2 * F_rsp - 2*F_fsp\n",
    "        if Fy<=0: Fy = 1E-10\n",
    "        a_brk = Fy * C / mTotal + 4*Tbrk*C/(self.rrt*mTotal)\n",
    "        return (v_car**2 / (2*a_brk))\n",
    "    \n",
    "    # objective 10 - (minimize) \n",
    "    def suspensionAcceleration(self):\n",
    "        Ffsp = self.suspensionForce(self.kfsp,self.cfsp)\n",
    "        Frsp = self.suspensionForce(self.krsp,self.crsp)\n",
    "        mTotal = self.mass()\n",
    "        Fd = self.F_down_total()\n",
    "        return (2*Ffsp - 2*Frsp - mTotal*gravity - Fd)/mTotal\n",
    "    \n",
    "    # objective 11 - (minimize)\n",
    "    def pitchMoment(self):\n",
    "        Ffsp = self.suspensionForce(self.kfsp,self.cfsp)\n",
    "        Frsp = self.suspensionForce(self.krsp,self.crsp)\n",
    "        downForceRearWing = self.F_down_wing(self.wrw,self.hrw,self.lrw,self.arw,rho_air,v_car)\n",
    "        downForceFrontWing = self.F_down_wing(self.wfw,self.hfw,self.lfw,self.afw,rho_air,v_car)\n",
    "        downForceSideWing = self.F_down_wing(self.wsw,self.hsw,self.lsw,self.asw,rho_air,v_car)\n",
    "        lcg = self.lc\n",
    "        lf = 0.5\n",
    "        return 2*Ffsp*lf + 2*Frsp*lf + downForceRearWing*(lcg - self.lrw) - downForceFrontWing*(lcg-self.lfw) - 2*downForceSideWing*(lcg-self.lsw)\n",
    "    \n",
    "    # global objective\n",
    "    def objective(self, weights):\n",
    "        return(self.mass()*weights[0]+self.cGy()*weights[1]+self.F_drag_total()*weights[2]-self.F_down_total()*weights[3]-self.acceleration()*weights[4]+self.crashForce()*weights[5]+self.iaVolume()*weights[6]-self.cornerVelocity()*weights[7]+self.breakingDistance()*weights[8]+self.suspensionAcceleration()*weights[9]+self.pitchMoment()*weights[10])\n",
    "    \n",
    "    # calculate penalty for violating constraints\n",
    "    def constraints(self):\n",
    "        pen = 0\n",
    "        if (self.wrw < 0.3):\n",
    "            pen = pen + (self.wrw-0.3)**2\n",
    "        if (self.wrw > r_track - 2 * self.rrt):\n",
    "            pen = pen + (self.wrw > r_track - 2 * self.rrt)**2\n",
    "        \n",
    "        if(self.yrw < .5 + self.hrw / 2):\n",
    "            pen = pen + (self.yrw - .5 + self.hrw / 2)**2\n",
    "        if(self.yrw > 1.2 - self.hrw / 2):\n",
    "            pen = pen + (self.yrw - 1.2 - self.hrw / 2)**2\n",
    "        \n",
    "        if(self.yfw < 0.03 + self.hfw / 2):\n",
    "            pen = pen + (self.yfw - 0.03 + self.hfw / 2)**2\n",
    "        if(self.yfw > .25 - self.hfw/2):\n",
    "            pen = pen + (self.yfw - .25 - self.hfw/2)**2\n",
    "       \n",
    "        if(self.ysw < 0.03 + self.hsw/2):\n",
    "            pen = pen + (self.ysw - 0.03 + self.hsw/2)**2\n",
    "        if(self.ysw > .250 - self.hsw/2):\n",
    "            pen = pen + (self.ysw - .250 - self.hsw/2)**2\n",
    "        \n",
    "        if(self.ye < 0.03 + self.he / 2):\n",
    "            pen = pen + (self.ye - 0.03 + self.he / 2)**2\n",
    "        if(self.ye > .5 - self.he / 2):\n",
    "            pen = pen + (self.ye - .5 - self.he / 2)**2\n",
    "       \n",
    "        if(self.yc < 0.03 + self.hc / 2):\n",
    "            pen = pen + (self.yc - 0.03 + self.hc / 2)**2\n",
    "        if(self.yc > 1.200 - self.hc / 2):\n",
    "            pen = pen + (self.yc - 1.200 - self.hc / 2)**2\n",
    "       \n",
    "        if(self.lia < 0.2):\n",
    "            pen = pen + (self.lia - 0.2)**2\n",
    "        if(self.lia > .7  - self.lfw):\n",
    "            pen = pen + (self.lia - .7  - self.lfw)**2\n",
    "        \n",
    "        if(self.yia < 0.03 + self.hia / 2):\n",
    "            pen = pen + (self.yia - 0.03 + self.hia / 2)**2\n",
    "        if(self.yia > 1.200 - self.hia / 2):\n",
    "            pen = pen + (self.yia - 1.200 - self.hia / 2)**2\n",
    "        \n",
    "        if(self.yrsp < self.rrt):\n",
    "            pen = pen + (self.yrsp - self.rrt)**2\n",
    "        if(self.yrsp > self.rrt * 2):\n",
    "            pen = pen + (self.yrsp - self.rrt * 2)**2\n",
    "  \n",
    "        if(self.yfsp < self.rft):\n",
    "            pen = pen + (self.yfsp - self.rft)**2\n",
    "        if(self.yfsp > self.rft * 2):\n",
    "            pen = pen + (self.yfsp - self.rft * 2)**2\n",
    "        \n",
    "        if (self.F_down_total()+self.mass()*gravity-2*self.suspensionForce(self.kfsp,self.cfsp)-2*self.suspensionForce(self.krsp,self.crsp) < 0):\n",
    "            pen = pen + (self.F_down_total()+self.mass()*gravity-2*self.suspensionForce(self.kfsp,self.cfsp)-2*self.suspensionForce(self.krsp,self.crsp))**2\n",
    "        \n",
    "        if (self.mass()*gravity + self.F_down_total() - 2*self.suspensionForce(self.krsp,self.crsp) - 2*self.suspensionForce(self.kfsp,self.cfsp) < 0):\n",
    "            pen = pen + (self.mass()*gravity + self.F_down_total() - 2*self.suspensionForce(self.krsp,self.crsp) - 2*self.suspensionForce(self.kfsp,self.cfsp))**2\n",
    "        \n",
    "        return(pen)    "
   ]
  },
  {
   "cell_type": "code",
   "execution_count": 66,
   "id": "suitable-shark",
   "metadata": {},
   "outputs": [],
   "source": [
    "all_objective = []\n",
    "all_mass = []\n",
    "all_cGy = []\n",
    "all_F_drag_total = []\n",
    "all_F_down_total = []\n",
    "all_acceleration = []\n",
    "all_crashForce = []\n",
    "all_iaVolume = []\n",
    "all_cornerVelocity = []\n",
    "all_breakingDistance = []\n",
    "all_suspensionAcceleration = []\n",
    "all_pitchMoment = []"
   ]
  },
  {
   "cell_type": "code",
   "execution_count": 67,
   "id": "residential-given",
   "metadata": {},
   "outputs": [],
   "source": [
    "for i in range(100000):\n",
    "    mycar=car()\n",
    "    if (mycar.constraints() == 0):\n",
    "        all_objective.append(mycar.objective(weights1))\n",
    "        all_mass.append(mycar.mass())\n",
    "        all_cGy.append(mycar.cGy())\n",
    "        all_F_drag_total.append(mycar.F_drag_total())\n",
    "        all_F_down_total.append(mycar.F_down_total())\n",
    "        all_acceleration.append(mycar.acceleration())\n",
    "        all_crashForce.append(mycar.crashForce())\n",
    "        all_iaVolume.append(mycar.iaVolume())\n",
    "        all_cornerVelocity.append(mycar.cornerVelocity())\n",
    "        all_breakingDistance.append(mycar.breakingDistance())\n",
    "        all_suspensionAcceleration.append(mycar.suspensionAcceleration())\n",
    "        all_pitchMoment.append(mycar.pitchMoment())"
   ]
  },
  {
   "cell_type": "code",
   "execution_count": 68,
   "id": "oriented-security",
   "metadata": {},
   "outputs": [
    {
     "name": "stdout",
     "output_type": "stream",
     "text": [
      "22066.834998063536\n",
      "108.49119489821969\n",
      "0.4917370930467272\n",
      "52.06261828691629\n",
      "69.12556944397436\n",
      "0.1856251330274016\n",
      "2206176.026787363\n",
      "0.02236387908602347\n",
      "26.28026370147921\n",
      "0.3568208837879832\n",
      "-10.447153729469235\n",
      "302.58189399074\n"
     ]
    }
   ],
   "source": [
    "print(all_objective[np.argmin(all_objective)])\n",
    "print(all_mass[np.argmin(all_objective)])\n",
    "print(all_cGy[np.argmin(all_objective)])\n",
    "print(all_F_drag_total[np.argmin(all_objective)])\n",
    "print(all_F_down_total[np.argmin(all_objective)])\n",
    "print(all_acceleration[np.argmin(all_objective)])\n",
    "print(all_crashForce[np.argmin(all_objective)])\n",
    "print(all_iaVolume[np.argmin(all_objective)])\n",
    "print(all_cornerVelocity[np.argmin(all_objective)])\n",
    "print(all_breakingDistance[np.argmin(all_objective)])\n",
    "print(all_suspensionAcceleration[np.argmin(all_objective)])\n",
    "print(all_pitchMoment[np.argmin(all_objective)])"
   ]
  },
  {
   "cell_type": "code",
   "execution_count": 69,
   "id": "worth-healing",
   "metadata": {},
   "outputs": [
    {
     "data": {
      "image/png": "[encoded data removed]",
      "text/plain": [
       "<Figure size 432x288 with 1 Axes>"
      ]
     },
     "metadata": {
      "needs_background": "light"
     },
     "output_type": "display_data"
    }
   ],
   "source": [
    "myhist=plt.hist(all_objective, bins=1000)"
   ]
  },
  {
   "cell_type": "code",
   "execution_count": 70,
   "id": "activated-politics",
   "metadata": {},
   "outputs": [
    {
     "data": {
      "image/png": "[encoded data removed]",
      "text/plain": [
       "<Figure size 432x288 with 1 Axes>"
      ]
     },
     "metadata": {
      "needs_background": "light"
     },
     "output_type": "display_data"
    }
   ],
   "source": [
    "myhist=plt.hist(all_mass, bins=1000)"
   ]
  },
  {
   "cell_type": "code",
   "execution_count": 71,
   "id": "subtle-criminal",
   "metadata": {},
   "outputs": [
    {
     "data": {
      "image/png": "[encoded data removed]",
      "text/plain": [
       "<Figure size 432x288 with 1 Axes>"
      ]
     },
     "metadata": {
      "needs_background": "light"
     },
     "output_type": "display_data"
    }
   ],
   "source": [
    "myhist=plt.hist(all_cGy, bins=1000)"
   ]
  },
  {
   "cell_type": "code",
   "execution_count": 72,
   "id": "approximate-dealer",
   "metadata": {},
   "outputs": [
    {
     "data": {
      "image/png": "[encoded data removed]",
      "text/plain": [
       "<Figure size 432x288 with 1 Axes>"
      ]
     },
     "metadata": {
      "needs_background": "light"
     },
     "output_type": "display_data"
    }
   ],
   "source": [
    "myhist=plt.hist(all_F_drag_total, bins=1000)"
   ]
  },
  {
   "cell_type": "code",
   "execution_count": 73,
   "id": "interior-simple",
   "metadata": {},
   "outputs": [
    {
     "data": {
      "image/png": "[encoded data removed]",
      "text/plain": [
       "<Figure size 432x288 with 1 Axes>"
      ]
     },
     "metadata": {
      "needs_background": "light"
     },
     "output_type": "display_data"
    }
   ],
   "source": [
    "myhist=plt.hist(all_F_down_total, bins=1000)"
   ]
  },
  {
   "cell_type": "code",
   "execution_count": 74,
   "id": "sticky-stations",
   "metadata": {},
   "outputs": [
    {
     "data": {
      "image/png": "[encoded data removed]",
      "text/plain": [
       "<Figure size 432x288 with 1 Axes>"
      ]
     },
     "metadata": {
      "needs_background": "light"
     },
     "output_type": "display_data"
    }
   ],
   "source": [
    "myhist=plt.hist(all_acceleration, bins=1000)"
   ]
  },
  {
   "cell_type": "code",
   "execution_count": 75,
   "id": "ambient-declaration",
   "metadata": {},
   "outputs": [
    {
     "data": {
      "image/png": "[encoded data removed]",
      "text/plain": [
       "<Figure size 432x288 with 1 Axes>"
      ]
     },
     "metadata": {
      "needs_background": "light"
     },
     "output_type": "display_data"
    }
   ],
   "source": [
    "myhist=plt.hist(all_crashForce, bins=1000)"
   ]
  },
  {
   "cell_type": "code",
   "execution_count": 76,
   "id": "filled-concentrate",
   "metadata": {},
   "outputs": [
    {
     "data": {
      "image/png": "[encoded data removed]",
      "text/plain": [
       "<Figure size 432x288 with 1 Axes>"
      ]
     },
     "metadata": {
      "needs_background": "light"
     },
     "output_type": "display_data"
    }
   ],
   "source": [
    "myhist=plt.hist(all_iaVolume, bins=1000)"
   ]
  },
  {
   "cell_type": "code",
   "execution_count": 77,
   "id": "incorporated-jordan",
   "metadata": {},
   "outputs": [
    {
     "data": {
      "image/png": "[encoded data removed]",
      "text/plain": [
       "<Figure size 432x288 with 1 Axes>"
      ]
     },
     "metadata": {
      "needs_background": "light"
     },
     "output_type": "display_data"
    }
   ],
   "source": [
    "myhist=plt.hist(all_cornerVelocity, bins=1000)"
   ]
  },
  {
   "cell_type": "code",
   "execution_count": 78,
   "id": "addressed-payroll",
   "metadata": {},
   "outputs": [
    {
     "data": {
      "image/png": "[encoded data removed]",
      "text/plain": [
       "<Figure size 432x288 with 1 Axes>"
      ]
     },
     "metadata": {
      "needs_background": "light"
     },
     "output_type": "display_data"
    }
   ],
   "source": [
    "myhist=plt.hist(all_breakingDistance, bins=1000)"
   ]
  },
  {
   "cell_type": "code",
   "execution_count": 79,
   "id": "linear-raising",
   "metadata": {},
   "outputs": [
    {
     "data": {
      "image/png": "[encoded data removed]",
      "text/plain": [
       "<Figure size 432x288 with 1 Axes>"
      ]
     },
     "metadata": {
      "needs_background": "light"
     },
     "output_type": "display_data"
    }
   ],
   "source": [
    "myhist=plt.hist(all_suspensionAcceleration, bins=1000)"
   ]
  },
  {
   "cell_type": "code",
   "execution_count": 80,
   "id": "vulnerable-webster",
   "metadata": {},
   "outputs": [
    {
     "data": {
      "image/png": "[encoded data removed]",
      "text/plain": [
       "<Figure size 432x288 with 1 Axes>"
      ]
     },
     "metadata": {
      "needs_background": "light"
     },
     "output_type": "display_data"
    }
   ],
   "source": [
    "myhist=plt.hist(all_pitchMoment, bins=1000)"
   ]
  },
  {
   "cell_type": "code",
   "execution_count": 99,
   "id": "legal-athletics",
   "metadata": {},
   "outputs": [],
   "source": [
    "# evaluations at midrange\n",
    "for i in range(19):\n",
    "    setattr(mycar, params.at[i, 'variable'], params.at[i, 'value'])\n",
    "\n",
    "for i in range(5):\n",
    "    setattr(mycar, params.at[19+i, 'variable'], materials.at[6,'q'])\n",
    "    params.at[19+i, 'value'] = materials.at[6,'q']\n",
    "\n",
    "setattr(mycar, 'Eia', mycar.qia*1000000)  \n",
    "params.at[24, 'value'] = mycar.qia*1000000\n",
    "\n",
    "setattr(mycar, params.at[25, 'variable'], tires.at[3,'radius'])\n",
    "setattr(mycar, params.at[26, 'variable'], tires.at[3,'mass'])\n",
    "\n",
    "setattr(mycar, params.at[27, 'variable'], tires.at[3,'radius'])\n",
    "setattr(mycar, params.at[28, 'variable'], tires.at[3,'mass'])\n",
    "\n",
    "setattr(mycar, params.at[29, 'variable'], motors.at[10,'Power'])\n",
    "setattr(mycar, params.at[30, 'variable'], motors.at[10,'Length'])\n",
    "setattr(mycar, params.at[31, 'variable'], motors.at[10,'Height'])\n",
    "setattr(mycar, params.at[32, 'variable'], motors.at[10,'Torque'])\n",
    "setattr(mycar, params.at[33, 'variable'], motors.at[10,'Mass'])\n",
    "\n",
    "setattr(mycar, params.at[34, 'variable'], brakes.at[17,'rbrk'])\n",
    "setattr(mycar, params.at[35, 'variable'], brakes.at[17,'qbrk'])\n",
    "setattr(mycar, params.at[36, 'variable'], brakes.at[17,'lbrk'])\n",
    "setattr(mycar, params.at[37, 'variable'], brakes.at[17,'hbrk'])\n",
    "setattr(mycar, params.at[38, 'variable'], brakes.at[17,'wbrk'])\n",
    "setattr(mycar, params.at[39, 'variable'], brakes.at[17,'tbrk'])\n",
    "\n",
    "setattr(mycar, params.at[40, 'variable'], suspension.at[2,'krsp'])\n",
    "setattr(mycar, params.at[41, 'variable'], suspension.at[2,'crsp'])\n",
    "setattr(mycar, params.at[42, 'variable'], suspension.at[2,'mrsp'])\n",
    "setattr(mycar, params.at[43, 'variable'], suspension.at[2,'kfsp'])\n",
    "setattr(mycar, params.at[44, 'variable'], suspension.at[2,'cfsp'])\n",
    "setattr(mycar, params.at[45, 'variable'], suspension.at[2,'mfsp'])\n",
    "\n",
    "for i in range(10):\n",
    "    setattr(mycar, params.at[i+46, 'variable'], params.at[i+46, 'value'])"
   ]
  },
  {
   "cell_type": "code",
   "execution_count": 100,
   "id": "expected-diversity",
   "metadata": {},
   "outputs": [],
   "source": [
    "# objectives at midrange\n",
    "obj=np.full(12, 0.0)\n",
    "obj[0]=mycar.objective(weights1)\n",
    "obj[1]=mycar.mass()\n",
    "obj[2] = mycar.cGy()\n",
    "obj[3] = mycar.F_drag_total()\n",
    "obj[4] = mycar.F_down_total()\n",
    "obj[5] = mycar.acceleration()\n",
    "obj[6] = mycar.crashForce()\n",
    "obj[7] = mycar.iaVolume()\n",
    "obj[8] = mycar.cornerVelocity()\n",
    "obj[9] = mycar.breakingDistance()\n",
    "obj[10] = mycar.suspensionAcceleration()\n",
    "obj[11] = mycar.pitchMoment()"
   ]
  },
  {
   "cell_type": "code",
   "execution_count": 101,
   "id": "little-grenada",
   "metadata": {},
   "outputs": [],
   "source": [
    "# objectives at midrange + delta\n",
    "arr = np.full((56,12), 0.0)\n",
    "for i in range(56):\n",
    "    midrange_val = getattr(mycar, params.at[i, 'variable'])\n",
    "    setattr(mycar, params.at[i, 'variable'], midrange_val + 0.00001)\n",
    "    \n",
    "    arr[(i,0)] = mycar.objective(weights1)\n",
    "    arr[(i,1)] = mycar.mass()\n",
    "    arr[(i,2)] = mycar.cGy()\n",
    "    arr[(i,3)] = mycar.F_drag_total()\n",
    "    arr[(i,4)] = mycar.F_down_total()\n",
    "    arr[(i,5)] = mycar.acceleration()\n",
    "    arr[(i,6)] = mycar.crashForce()\n",
    "    arr[(i,7)] = mycar.iaVolume()\n",
    "    arr[(i,8)] = mycar.cornerVelocity()\n",
    "    arr[(i,9)] = mycar.breakingDistance()\n",
    "    arr[(i,10)] = mycar.suspensionAcceleration()\n",
    "    arr[(i,11)] = mycar.pitchMoment()\n",
    "    \n",
    "    setattr(mycar, params.at[i, 'variable'], midrange_val)"
   ]
  },
  {
   "cell_type": "code",
   "execution_count": 102,
   "id": "promotional-absorption",
   "metadata": {},
   "outputs": [],
   "source": [
    "# store slopes in arr\n",
    "for i in range(56):\n",
    "    for j in range(12):\n",
    "        arr[(i,j)] = (arr[(i,j)] - obj[j])/0.00001"
   ]
  },
  {
   "cell_type": "code",
   "execution_count": 103,
   "id": "purple-emerald",
   "metadata": {},
   "outputs": [],
   "source": [
    "# evaluate constants\n",
    "const = np.full(12, 0.0)\n",
    "for j in range(12):\n",
    "    sum = 0\n",
    "    for i in range(56):\n",
    "        sum = sum + getattr(mycar, params.at[i, 'variable'])*arr[i,j]\n",
    "    const[j] = obj[j] - sum"
   ]
  },
  {
   "cell_type": "code",
   "execution_count": 104,
   "id": "dedicated-printer",
   "metadata": {},
   "outputs": [],
   "source": [
    "# kth objective - simplified\n",
    "def objectives_simplified(test_car, k):\n",
    "    sum = 0\n",
    "    for i in range(56):\n",
    "        sum = sum + getattr(test_car, params.at[i, 'variable'])*arr[i,k]\n",
    "    return(sum+const[k])"
   ]
  },
  {
   "cell_type": "code",
   "execution_count": 110,
   "id": "alternative-butler",
   "metadata": {},
   "outputs": [],
   "source": [
    "all_objective_s = []\n",
    "all_mass_s = []\n",
    "all_cGy_s = []\n",
    "all_F_drag_total_s = []\n",
    "all_F_down_total_s = []\n",
    "all_acceleration_s = []\n",
    "all_crashForce_s = []\n",
    "all_iaVolume_s = []\n",
    "all_cornerVelocity_s = []\n",
    "all_breakingDistance_s = []\n",
    "all_suspensionAcceleration_s = []\n",
    "all_pitchMoment_s = []\n",
    "\n",
    "all_objective_o = []\n",
    "all_mass_o = []\n",
    "all_cGy_o = []\n",
    "all_F_drag_total_o = []\n",
    "all_F_down_total_o = []\n",
    "all_acceleration_o = []\n",
    "all_crashForce_o = []\n",
    "all_iaVolume_o = []\n",
    "all_cornerVelocity_o = []\n",
    "all_breakingDistance_o = []\n",
    "all_suspensionAcceleration_o = []\n",
    "all_pitchMoment_o = []"
   ]
  },
  {
   "cell_type": "code",
   "execution_count": 111,
   "id": "animated-bennett",
   "metadata": {},
   "outputs": [],
   "source": [
    "for i in range(100000):\n",
    "    mycar=car()\n",
    "\n",
    "    if (mycar.constraints() == 0):\n",
    "        all_objective_s.append(objectives_simplified(mycar, 0))\n",
    "        all_mass_s.append(objectives_simplified(mycar, 1))\n",
    "        all_cGy_s.append(objectives_simplified(mycar, 2))\n",
    "        all_F_drag_total_s.append(objectives_simplified(mycar, 3))\n",
    "        all_F_down_total_s.append(objectives_simplified(mycar, 4))\n",
    "        all_acceleration_s.append(objectives_simplified(mycar, 5))\n",
    "        all_crashForce_s.append(objectives_simplified(mycar, 6))\n",
    "        all_iaVolume_s.append(objectives_simplified(mycar, 7))\n",
    "        all_cornerVelocity_s.append(objectives_simplified(mycar, 8))\n",
    "        all_breakingDistance_s.append(objectives_simplified(mycar, 9))\n",
    "        all_suspensionAcceleration_s.append(objectives_simplified(mycar, 10))\n",
    "        all_pitchMoment_s.append(objectives_simplified(mycar, 11))\n",
    "            \n",
    "        all_objective_o.append(mycar.objective(weights1))\n",
    "        all_mass_o.append(mycar.mass())\n",
    "        all_cGy_o.append(mycar.cGy())\n",
    "        all_F_drag_total_o.append(mycar.F_drag_total())\n",
    "        all_F_down_total_o.append(mycar.F_down_total())\n",
    "        all_acceleration_o.append(mycar.acceleration())\n",
    "        all_crashForce_o.append(mycar.crashForce())\n",
    "        all_iaVolume_o.append(mycar.iaVolume())\n",
    "        all_cornerVelocity_o.append(mycar.cornerVelocity())\n",
    "        all_breakingDistance_o.append(mycar.breakingDistance())\n",
    "        all_suspensionAcceleration_o.append(mycar.suspensionAcceleration())\n",
    "        all_pitchMoment_o.append(mycar.pitchMoment())"
   ]
  },
  {
   "cell_type": "code",
   "execution_count": 113,
   "id": "insured-ribbon",
   "metadata": {},
   "outputs": [],
   "source": [
    "err=np.array(all_crashForce_s)-np.array(all_crashForce_o)"
   ]
  },
  {
   "cell_type": "code",
   "execution_count": 116,
   "id": "macro-toronto",
   "metadata": {},
   "outputs": [
    {
     "data": {
      "text/plain": [
       "<matplotlib.collections.PathCollection at 0x1f6853e7748>"
      ]
     },
     "execution_count": 116,
     "metadata": {},
     "output_type": "execute_result"
    },
    {
     "data": {
      "image/png": "[encoded data removed]",
      "text/plain": [
       "<Figure size 432x288 with 1 Axes>"
      ]
     },
     "metadata": {
      "needs_background": "light"
     },
     "output_type": "display_data"
    }
   ],
   "source": [
    "plt.scatter(all_crashForce_o, err, s=0.5)"
   ]
  },
  {
   "cell_type": "code",
   "execution_count": null,
   "id": "cloudy-overall",
   "metadata": {},
   "outputs": [],
   "source": []
  }
 ],
 "metadata": {
  "kernelspec": {
   "display_name": "Python 3",
   "language": "python",
   "name": "python3"
  },
  "language_info": {
   "codemirror_mode": {
    "name": "ipython",
    "version": 3
   },
   "file_extension": ".py",
   "mimetype": "text/x-python",
   "name": "python",
   "nbconvert_exporter": "python",
   "pygments_lexer": "ipython3",
   "version": "3.6.12"
  }
 },
 "nbformat": 4,
 "nbformat_minor": 5
}
